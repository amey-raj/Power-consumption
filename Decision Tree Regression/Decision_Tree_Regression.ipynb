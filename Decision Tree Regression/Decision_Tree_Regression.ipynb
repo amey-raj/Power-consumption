{
  "cells": [
    {
      "cell_type": "markdown",
      "metadata": {
        "id": "view-in-github",
        "colab_type": "text"
      },
      "source": [
        "<a href=\"https://colab.research.google.com/github/amey-raj/Power-consumption/blob/main/Decision%20Tree%20Regression/Decision_Tree_Regression.ipynb\" target=\"_parent\"><img src=\"https://colab.research.google.com/assets/colab-badge.svg\" alt=\"Open In Colab\"/></a>"
      ]
    },
    {
      "cell_type": "markdown",
      "id": "a70ec730",
      "metadata": {
        "id": "a70ec730"
      },
      "source": [
        "**Importing the libraries**"
      ]
    },
    {
      "cell_type": "code",
      "execution_count": 6,
      "id": "e22177f2",
      "metadata": {
        "id": "e22177f2"
      },
      "outputs": [],
      "source": [
        "import numpy as np \n",
        "import matplotlib.pyplot as plt \n",
        "import pandas as pd"
      ]
    },
    {
      "cell_type": "code",
      "execution_count": 7,
      "id": "1ef30106",
      "metadata": {
        "id": "1ef30106"
      },
      "outputs": [],
      "source": [
        "dataset = pd.read_csv(r'Tetouan City power consumption.csv')\n",
        "X = dataset.iloc[:, 1:6].values\n",
        "y1 = dataset.iloc[:, 6].values\n",
        "y2 = dataset.iloc[:, 7].values\n",
        "y3 = dataset.iloc[:, 8].values"
      ]
    },
    {
      "cell_type": "code",
      "execution_count": 8,
      "id": "eb730c5b",
      "metadata": {
        "colab": {
          "base_uri": "https://localhost:8080/"
        },
        "id": "eb730c5b",
        "outputId": "f5effb18-9a9b-4c65-fecc-c6e08dbffb1c"
      },
      "outputs": [
        {
          "output_type": "stream",
          "name": "stdout",
          "text": [
            "[20240.96386 20131.08434 19668.43373 ... 13806.48259 13512.60504\n",
            " 13345.4982 ]\n"
          ]
        }
      ],
      "source": [
        "print(y3)"
      ]
    },
    {
      "cell_type": "markdown",
      "id": "afeeedbb",
      "metadata": {
        "id": "afeeedbb"
      },
      "source": [
        "**Splitting the dataset into the Training set and Test set**"
      ]
    },
    {
      "cell_type": "code",
      "execution_count": 9,
      "id": "16636f37",
      "metadata": {
        "id": "16636f37"
      },
      "outputs": [],
      "source": [
        "from sklearn.model_selection import train_test_split\n",
        "X_train1, X_test1, y_train1, y_test1 = train_test_split(X, y1, test_size = 0.2, random_state = 0)\n",
        "X_train2, X_test2, y_train2, y_test2 = train_test_split(X, y2, test_size = 0.2, random_state = 0)\n",
        "X_train3, X_test3, y_train3, y_test3 = train_test_split(X, y3, test_size = 0.2, random_state = 0)"
      ]
    },
    {
      "cell_type": "markdown",
      "id": "90b70459",
      "metadata": {
        "id": "90b70459"
      },
      "source": [
        "**Training Model**"
      ]
    },
    {
      "cell_type": "code",
      "execution_count": 10,
      "id": "965b3ed2",
      "metadata": {
        "colab": {
          "base_uri": "https://localhost:8080/"
        },
        "id": "965b3ed2",
        "outputId": "33f13d1c-f5be-49ca-bb81-240ec06e9c2f"
      },
      "outputs": [
        {
          "output_type": "execute_result",
          "data": {
            "text/plain": [
              "DecisionTreeRegressor(random_state=0)"
            ]
          },
          "metadata": {},
          "execution_count": 10
        }
      ],
      "source": [
        "from sklearn.tree import DecisionTreeRegressor\n",
        "regressor1 = DecisionTreeRegressor(random_state = 0)\n",
        "regressor1.fit(X_train1, y_train1)"
      ]
    },
    {
      "cell_type": "code",
      "execution_count": 11,
      "id": "2fddc7d4",
      "metadata": {
        "colab": {
          "base_uri": "https://localhost:8080/"
        },
        "id": "2fddc7d4",
        "outputId": "f8bdae57-a5fd-42c2-ccf3-d2d6a59d171c"
      },
      "outputs": [
        {
          "output_type": "execute_result",
          "data": {
            "text/plain": [
              "DecisionTreeRegressor(random_state=0)"
            ]
          },
          "metadata": {},
          "execution_count": 11
        }
      ],
      "source": [
        "regressor2 = DecisionTreeRegressor(random_state = 0)\n",
        "regressor2.fit(X_train2, y_train2)"
      ]
    },
    {
      "cell_type": "code",
      "execution_count": 12,
      "id": "f9b8594a",
      "metadata": {
        "colab": {
          "base_uri": "https://localhost:8080/"
        },
        "id": "f9b8594a",
        "outputId": "fe9102ad-dfb9-441b-a7b1-c890c93e83c3"
      },
      "outputs": [
        {
          "output_type": "execute_result",
          "data": {
            "text/plain": [
              "DecisionTreeRegressor(random_state=0)"
            ]
          },
          "metadata": {},
          "execution_count": 12
        }
      ],
      "source": [
        "regressor3 = DecisionTreeRegressor(random_state = 0)\n",
        "regressor3.fit(X_train3, y_train3)"
      ]
    },
    {
      "cell_type": "markdown",
      "source": [
        "**Predicting the Test set results**"
      ],
      "metadata": {
        "id": "W6_LA7EdqmrB"
      },
      "id": "W6_LA7EdqmrB"
    },
    {
      "cell_type": "code",
      "execution_count": 13,
      "id": "26f43db6",
      "metadata": {
        "colab": {
          "base_uri": "https://localhost:8080/"
        },
        "id": "26f43db6",
        "outputId": "30a4a133-9d12-4f54-cec3-e35484365c67"
      },
      "outputs": [
        {
          "output_type": "stream",
          "name": "stdout",
          "text": [
            "[[24654.83 27782.78]\n",
            " [31517.34 26386.35]\n",
            " [34068.45 27506.55]\n",
            " ...\n",
            " [39218.36 38639.21]\n",
            " [30542.26 36790.9 ]\n",
            " [42522.71 25267.12]]\n"
          ]
        }
      ],
      "source": [
        "y_pred1 = regressor1.predict(X_test1)\n",
        "np.set_printoptions(precision=2)\n",
        "print(np.concatenate((y_pred1.reshape(len(y_pred1),1), y_test1.reshape(len(y_test1),1)),1))"
      ]
    },
    {
      "cell_type": "code",
      "execution_count": 14,
      "id": "70f0ae62",
      "metadata": {
        "colab": {
          "base_uri": "https://localhost:8080/"
        },
        "id": "70f0ae62",
        "outputId": "7ddc69fb-314b-467c-abde-57b7a1294639"
      },
      "outputs": [
        {
          "output_type": "stream",
          "name": "stdout",
          "text": [
            "[[16446.99 17191.68]\n",
            " [17731.12 17887.97]\n",
            " [15672.35 15537.63]\n",
            " ...\n",
            " [20206.81 23650.77]\n",
            " [17607.74 22753.94]\n",
            " [16974.53 15497.87]]\n"
          ]
        }
      ],
      "source": [
        "y_pred2 = regressor2.predict(X_test2)\n",
        "np.set_printoptions(precision=2)\n",
        "print(np.concatenate((y_pred2.reshape(len(y_pred2),1), y_test2.reshape(len(y_test2),1)),1))"
      ]
    },
    {
      "cell_type": "code",
      "execution_count": 15,
      "id": "cce616be",
      "metadata": {
        "colab": {
          "base_uri": "https://localhost:8080/"
        },
        "id": "cce616be",
        "outputId": "54364503-9224-4018-a5ab-f9b10308a2ab"
      },
      "outputs": [
        {
          "output_type": "stream",
          "name": "stdout",
          "text": [
            "[[13408.62 21184.98]\n",
            " [22262.76 13375.81]\n",
            " [24941.94 13967.56]\n",
            " ...\n",
            " [16924.37 20276.6 ]\n",
            " [24034.14 13049.  ]\n",
            " [23329.45 15450.69]]\n"
          ]
        }
      ],
      "source": [
        "y_pred3 = regressor3.predict(X_test3)\n",
        "np.set_printoptions(precision=2) \n",
        "print(np.concatenate((y_pred3.reshape(len(y_pred3),1), y_test3.reshape(len(y_test3),1)),1))"
      ]
    },
    {
      "cell_type": "markdown",
      "id": "2c268a0a",
      "metadata": {
        "id": "2c268a0a"
      },
      "source": [
        "**Evaluating the Model Performance**"
      ]
    },
    {
      "cell_type": "code",
      "execution_count": 16,
      "id": "354ecb14",
      "metadata": {
        "colab": {
          "base_uri": "https://localhost:8080/"
        },
        "id": "354ecb14",
        "outputId": "33e20d1a-7cc0-49af-b71e-b8a0ec3f001a"
      },
      "outputs": [
        {
          "output_type": "execute_result",
          "data": {
            "text/plain": [
              "0.15821353353540746"
            ]
          },
          "metadata": {},
          "execution_count": 16
        }
      ],
      "source": [
        "from sklearn.metrics import r2_score\n",
        "r2_score(y_test1, y_pred1)"
      ]
    },
    {
      "cell_type": "code",
      "execution_count": 17,
      "id": "fa07ab14",
      "metadata": {
        "colab": {
          "base_uri": "https://localhost:8080/"
        },
        "id": "fa07ab14",
        "outputId": "e402ad59-c186-48f2-966d-5cda63d8dbb1"
      },
      "outputs": [
        {
          "output_type": "execute_result",
          "data": {
            "text/plain": [
              "0.11741900391107751"
            ]
          },
          "metadata": {},
          "execution_count": 17
        }
      ],
      "source": [
        "r2_score(y_test2, y_pred2)"
      ]
    },
    {
      "cell_type": "code",
      "execution_count": 18,
      "id": "3d94b2a8",
      "metadata": {
        "colab": {
          "base_uri": "https://localhost:8080/"
        },
        "id": "3d94b2a8",
        "outputId": "fe94cb0d-ae0b-4804-d214-b65baaffcc55"
      },
      "outputs": [
        {
          "output_type": "execute_result",
          "data": {
            "text/plain": [
              "0.44613570175547723"
            ]
          },
          "metadata": {},
          "execution_count": 18
        }
      ],
      "source": [
        "r2_score(y_test3, y_pred3)"
      ]
    },
    {
      "cell_type": "code",
      "execution_count": 18,
      "id": "3f7d6a95",
      "metadata": {
        "id": "3f7d6a95"
      },
      "outputs": [],
      "source": [
        ""
      ]
    }
  ],
  "metadata": {
    "kernelspec": {
      "display_name": "Python 3 (ipykernel)",
      "language": "python",
      "name": "python3"
    },
    "language_info": {
      "codemirror_mode": {
        "name": "ipython",
        "version": 3
      },
      "file_extension": ".py",
      "mimetype": "text/x-python",
      "name": "python",
      "nbconvert_exporter": "python",
      "pygments_lexer": "ipython3",
      "version": "3.9.6"
    },
    "colab": {
      "name": "Decision Tree Regression.ipynb",
      "provenance": [],
      "include_colab_link": true
    }
  },
  "nbformat": 4,
  "nbformat_minor": 5
}