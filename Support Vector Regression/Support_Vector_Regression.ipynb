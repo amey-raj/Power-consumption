{
  "cells": [
    {
      "cell_type": "markdown",
      "metadata": {
        "id": "view-in-github",
        "colab_type": "text"
      },
      "source": [
        "<a href=\"https://colab.research.google.com/github/amey-raj/Power-consumption/blob/main/Support%20Vector%20Regression/Support_Vector_Regression.ipynb\" target=\"_parent\"><img src=\"https://colab.research.google.com/assets/colab-badge.svg\" alt=\"Open In Colab\"/></a>"
      ]
    },
    {
      "cell_type": "markdown",
      "metadata": {
        "id": "a70ec730"
      },
      "source": [
        "**Importing the libraries**"
      ],
      "id": "a70ec730"
    },
    {
      "cell_type": "code",
      "execution_count": 5,
      "id": "c9151f8d",
      "metadata": {
        "id": "c9151f8d"
      },
      "outputs": [],
      "source": [
        "import numpy as np\n",
        "import matplotlib.pyplot as plt\n",
        "import pandas as pd"
      ]
    },
    {
      "cell_type": "code",
      "execution_count": 6,
      "id": "414a6f68",
      "metadata": {
        "id": "414a6f68"
      },
      "outputs": [],
      "source": [
        "dataset = pd.read_csv(r'Tetouan City power consumption.csv')\n",
        "X = dataset.iloc[:, 1:6].values\n",
        "y1 = dataset.iloc[:, 6].values\n",
        "y2 = dataset.iloc[:, 7].values\n",
        "y3 = dataset.iloc[:, 8].values"
      ]
    },
    {
      "cell_type": "code",
      "execution_count": 7,
      "id": "8639ad50",
      "metadata": {
        "colab": {
          "base_uri": "https://localhost:8080/"
        },
        "id": "8639ad50",
        "outputId": "9c31c431-5936-40da-eb3a-38ada7716444"
      },
      "outputs": [
        {
          "output_type": "stream",
          "name": "stdout",
          "text": [
            "[20240.96386 20131.08434 19668.43373 ... 13806.48259 13512.60504\n",
            " 13345.4982 ]\n"
          ]
        }
      ],
      "source": [
        "print(y3)"
      ]
    },
    {
      "cell_type": "markdown",
      "metadata": {
        "id": "afeeedbb"
      },
      "source": [
        "**Splitting the dataset into the Training set and Test set**"
      ],
      "id": "afeeedbb"
    },
    {
      "cell_type": "code",
      "execution_count": 8,
      "id": "19ac042b",
      "metadata": {
        "id": "19ac042b"
      },
      "outputs": [],
      "source": [
        "from sklearn.model_selection import train_test_split\n",
        "X_train1, X_test1, y_train1, y_test1 = train_test_split(X, y1, test_size = 0.2, random_state = 0)\n",
        "X_train2, X_test2, y_train2, y_test2 = train_test_split(X, y2, test_size = 0.2, random_state = 0)\n",
        "X_train3, X_test3, y_train3, y_test3 = train_test_split(X, y3, test_size = 0.2, random_state = 0)"
      ]
    },
    {
      "cell_type": "markdown",
      "source": [
        "**Scaling Data**"
      ],
      "metadata": {
        "id": "u9WAHkkBq7ED"
      },
      "id": "u9WAHkkBq7ED"
    },
    {
      "cell_type": "code",
      "execution_count": 9,
      "id": "3c4f1c3a",
      "metadata": {
        "id": "3c4f1c3a"
      },
      "outputs": [],
      "source": [
        "from sklearn.preprocessing import StandardScaler\n",
        "sc_X = StandardScaler()\n",
        "sc_y = StandardScaler()\n",
        "X_train1 = sc_X.fit_transform(X_train1)\n",
        "y_train1 = sc_y.fit_transform(y_train1.reshape(-1, 1))"
      ]
    },
    {
      "cell_type": "code",
      "execution_count": 10,
      "id": "82d1b9c2",
      "metadata": {
        "id": "82d1b9c2"
      },
      "outputs": [],
      "source": [
        "X_train2 = sc_X.fit_transform(X_train2)\n",
        "y_train2 = sc_y.fit_transform(y_train2.reshape(-1, 1))"
      ]
    },
    {
      "cell_type": "code",
      "execution_count": 11,
      "id": "ed7f6a85",
      "metadata": {
        "id": "ed7f6a85"
      },
      "outputs": [],
      "source": [
        "X_train3 = sc_X.fit_transform(X_train3)\n",
        "y_train3 = sc_y.fit_transform(y_train3.reshape(-1, 1))"
      ]
    },
    {
      "cell_type": "markdown",
      "metadata": {
        "id": "90b70459"
      },
      "source": [
        "**Training Model**"
      ],
      "id": "90b70459"
    },
    {
      "cell_type": "code",
      "execution_count": 12,
      "id": "59ac8a45",
      "metadata": {
        "colab": {
          "base_uri": "https://localhost:8080/"
        },
        "id": "59ac8a45",
        "outputId": "3e7cfa1f-0d42-4a02-fd32-1ffb8132039d"
      },
      "outputs": [
        {
          "output_type": "stream",
          "name": "stderr",
          "text": [
            "/usr/local/lib/python3.7/dist-packages/sklearn/utils/validation.py:993: DataConversionWarning: A column-vector y was passed when a 1d array was expected. Please change the shape of y to (n_samples, ), for example using ravel().\n",
            "  y = column_or_1d(y, warn=True)\n",
            "/usr/local/lib/python3.7/dist-packages/sklearn/utils/validation.py:993: DataConversionWarning: A column-vector y was passed when a 1d array was expected. Please change the shape of y to (n_samples, ), for example using ravel().\n",
            "  y = column_or_1d(y, warn=True)\n",
            "/usr/local/lib/python3.7/dist-packages/sklearn/utils/validation.py:993: DataConversionWarning: A column-vector y was passed when a 1d array was expected. Please change the shape of y to (n_samples, ), for example using ravel().\n",
            "  y = column_or_1d(y, warn=True)\n"
          ]
        },
        {
          "output_type": "execute_result",
          "data": {
            "text/plain": [
              "SVR()"
            ]
          },
          "metadata": {},
          "execution_count": 12
        }
      ],
      "source": [
        "from sklearn.svm import SVR\n",
        "regressor1 = SVR(kernel = 'rbf')\n",
        "regressor1.fit(X_train1, y_train1)\n",
        "regressor2 = SVR(kernel = 'rbf')\n",
        "regressor2.fit(X_train2, y_train2)\n",
        "regressor3 = SVR(kernel = 'rbf')\n",
        "regressor3.fit(X_train3, y_train3)"
      ]
    },
    {
      "cell_type": "markdown",
      "source": [
        "**Predicting the Test set results**"
      ],
      "metadata": {
        "id": "W6_LA7EdqmrB"
      },
      "id": "W6_LA7EdqmrB"
    },
    {
      "cell_type": "code",
      "execution_count": 13,
      "id": "3bd31416",
      "metadata": {
        "colab": {
          "base_uri": "https://localhost:8080/"
        },
        "id": "3bd31416",
        "outputId": "1c2854c9-af57-4634-e7f1-1c560d41ce9f"
      },
      "outputs": [
        {
          "output_type": "stream",
          "name": "stdout",
          "text": [
            "[[13165.22 27782.78]\n",
            " [17382.2  26386.35]\n",
            " [22207.57 27506.55]\n",
            " ...\n",
            " [17536.67 38639.21]\n",
            " [19655.84 36790.9 ]\n",
            " [14836.8  25267.12]]\n"
          ]
        }
      ],
      "source": [
        "y_pred1 = sc_y.inverse_transform(regressor1.predict(sc_X.transform(X_test1)).reshape(-1,1))\n",
        "np.set_printoptions(precision=2)\n",
        "print(np.concatenate((y_pred1.reshape(len(y_pred1),1), y_test1.reshape(len(y_test1),1)),1))"
      ]
    },
    {
      "cell_type": "code",
      "execution_count": 14,
      "id": "8651a0d9",
      "metadata": {
        "colab": {
          "base_uri": "https://localhost:8080/"
        },
        "id": "8651a0d9",
        "outputId": "2736306c-24cd-4fdd-b3a0-0eb2236fb140"
      },
      "outputs": [
        {
          "output_type": "stream",
          "name": "stdout",
          "text": [
            "[[12034.74 17191.68]\n",
            " [16957.73 17887.97]\n",
            " [20826.41 15537.63]\n",
            " ...\n",
            " [17158.41 23650.77]\n",
            " [18989.4  22753.94]\n",
            " [16736.34 15497.87]]\n"
          ]
        }
      ],
      "source": [
        "y_pred2 = sc_y.inverse_transform(regressor2.predict(sc_X.transform(X_test2)).reshape(-1,1))\n",
        "np.set_printoptions(precision=2)\n",
        "print(np.concatenate((y_pred2.reshape(len(y_pred2),1), y_test2.reshape(len(y_test2),1)),1))"
      ]
    },
    {
      "cell_type": "code",
      "execution_count": 15,
      "id": "d81bdcb7",
      "metadata": {
        "colab": {
          "base_uri": "https://localhost:8080/"
        },
        "id": "d81bdcb7",
        "outputId": "f727ac16-8f5c-4089-ec81-e24da825e80f"
      },
      "outputs": [
        {
          "output_type": "stream",
          "name": "stdout",
          "text": [
            "[[13241.2  21184.98]\n",
            " [18155.42 13375.81]\n",
            " [21328.4  13967.56]\n",
            " ...\n",
            " [16578.1  20276.6 ]\n",
            " [15073.75 13049.  ]\n",
            " [15624.85 15450.69]]\n"
          ]
        }
      ],
      "source": [
        "y_pred3 = sc_y.inverse_transform(regressor3.predict(sc_X.transform(X_test3)).reshape(-1,1))\n",
        "np.set_printoptions(precision=2) \n",
        "print(np.concatenate((y_pred3.reshape(len(y_pred3),1), y_test3.reshape(len(y_test3),1)),1))"
      ]
    },
    {
      "cell_type": "markdown",
      "metadata": {
        "id": "2c268a0a"
      },
      "source": [
        "**Evaluating the Model Performance**"
      ],
      "id": "2c268a0a"
    },
    {
      "cell_type": "code",
      "execution_count": 16,
      "id": "f2d36852",
      "metadata": {
        "colab": {
          "base_uri": "https://localhost:8080/"
        },
        "id": "f2d36852",
        "outputId": "5f538522-4436-4291-95f8-621e4d962cda"
      },
      "outputs": [
        {
          "output_type": "execute_result",
          "data": {
            "text/plain": [
              "-4.216025463029749"
            ]
          },
          "metadata": {},
          "execution_count": 16
        }
      ],
      "source": [
        "from sklearn.metrics import r2_score\n",
        "r2_score(y_test1, y_pred1)"
      ]
    },
    {
      "cell_type": "code",
      "execution_count": 17,
      "id": "9605eddd",
      "metadata": {
        "colab": {
          "base_uri": "https://localhost:8080/"
        },
        "id": "9605eddd",
        "outputId": "a2c3c882-f932-432b-8cae-5748809c5e82"
      },
      "outputs": [
        {
          "output_type": "execute_result",
          "data": {
            "text/plain": [
              "-0.29798783077792557"
            ]
          },
          "metadata": {},
          "execution_count": 17
        }
      ],
      "source": [
        "r2_score(y_test2, y_pred2)"
      ]
    },
    {
      "cell_type": "code",
      "execution_count": 18,
      "id": "97bd405a",
      "metadata": {
        "colab": {
          "base_uri": "https://localhost:8080/"
        },
        "id": "97bd405a",
        "outputId": "8d3d40f5-7d96-425d-df1e-8d3827d52974"
      },
      "outputs": [
        {
          "output_type": "execute_result",
          "data": {
            "text/plain": [
              "0.49280938272883823"
            ]
          },
          "metadata": {},
          "execution_count": 18
        }
      ],
      "source": [
        "r2_score(y_test3, y_pred3)"
      ]
    },
    {
      "cell_type": "code",
      "execution_count": 18,
      "id": "2bc66e11",
      "metadata": {
        "id": "2bc66e11"
      },
      "outputs": [],
      "source": [
        ""
      ]
    }
  ],
  "metadata": {
    "kernelspec": {
      "display_name": "Python 3 (ipykernel)",
      "language": "python",
      "name": "python3"
    },
    "language_info": {
      "codemirror_mode": {
        "name": "ipython",
        "version": 3
      },
      "file_extension": ".py",
      "mimetype": "text/x-python",
      "name": "python",
      "nbconvert_exporter": "python",
      "pygments_lexer": "ipython3",
      "version": "3.9.6"
    },
    "colab": {
      "name": "Support Vector Regression.ipynb",
      "provenance": [],
      "include_colab_link": true
    }
  },
  "nbformat": 4,
  "nbformat_minor": 5
}