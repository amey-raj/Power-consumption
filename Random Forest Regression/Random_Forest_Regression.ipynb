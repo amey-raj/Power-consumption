{
  "cells": [
    {
      "cell_type": "markdown",
      "metadata": {
        "id": "view-in-github",
        "colab_type": "text"
      },
      "source": [
        "<a href=\"https://colab.research.google.com/github/amey-raj/Power-consumption/blob/main/Random%20Forest%20Regression/Random_Forest_Regression.ipynb\" target=\"_parent\"><img src=\"https://colab.research.google.com/assets/colab-badge.svg\" alt=\"Open In Colab\"/></a>"
      ]
    },
    {
      "cell_type": "markdown",
      "metadata": {
        "id": "a70ec730"
      },
      "source": [
        "**Importing the libraries**"
      ],
      "id": "a70ec730"
    },
    {
      "cell_type": "code",
      "execution_count": 3,
      "id": "1df420af",
      "metadata": {
        "id": "1df420af"
      },
      "outputs": [],
      "source": [
        "import numpy as np \n",
        "import matplotlib.pyplot as plt \n",
        "import pandas as pd"
      ]
    },
    {
      "cell_type": "code",
      "execution_count": 4,
      "id": "088ef7dc",
      "metadata": {
        "id": "088ef7dc"
      },
      "outputs": [],
      "source": [
        "dataset = pd.read_csv(r'Tetouan City power consumption.csv')\n",
        "X = dataset.iloc[:, 1:6].values\n",
        "y1 = dataset.iloc[:, 6].values\n",
        "y2 = dataset.iloc[:, 7].values\n",
        "y3 = dataset.iloc[:, 8].values"
      ]
    },
    {
      "cell_type": "code",
      "execution_count": 5,
      "id": "bf6c14ac",
      "metadata": {
        "colab": {
          "base_uri": "https://localhost:8080/"
        },
        "id": "bf6c14ac",
        "outputId": "0e5daa72-f7c0-4c34-fd28-60be3cac3bbb"
      },
      "outputs": [
        {
          "output_type": "stream",
          "name": "stdout",
          "text": [
            "[20240.96386 20131.08434 19668.43373 ... 13806.48259 13512.60504\n",
            " 13345.4982 ]\n"
          ]
        }
      ],
      "source": [
        "print(y3)"
      ]
    },
    {
      "cell_type": "markdown",
      "metadata": {
        "id": "afeeedbb"
      },
      "source": [
        "**Splitting the dataset into the Training set and Test set**"
      ],
      "id": "afeeedbb"
    },
    {
      "cell_type": "code",
      "execution_count": 6,
      "id": "d1e614de",
      "metadata": {
        "id": "d1e614de"
      },
      "outputs": [],
      "source": [
        "from sklearn.model_selection import train_test_split\n",
        "X_train1, X_test1, y_train1, y_test1 = train_test_split(X, y1, test_size = 0.2, random_state = 0)\n",
        "X_train2, X_test2, y_train2, y_test2 = train_test_split(X, y2, test_size = 0.2, random_state = 0)\n",
        "X_train3, X_test3, y_train3, y_test3 = train_test_split(X, y3, test_size = 0.2, random_state = 0)"
      ]
    },
    {
      "cell_type": "markdown",
      "metadata": {
        "id": "90b70459"
      },
      "source": [
        "**Training Model**"
      ],
      "id": "90b70459"
    },
    {
      "cell_type": "code",
      "execution_count": 7,
      "id": "b52ff025",
      "metadata": {
        "colab": {
          "base_uri": "https://localhost:8080/"
        },
        "id": "b52ff025",
        "outputId": "a2e82e84-28b2-4367-e920-4432bcf726de"
      },
      "outputs": [
        {
          "output_type": "execute_result",
          "data": {
            "text/plain": [
              "RandomForestRegressor(n_estimators=10, random_state=0)"
            ]
          },
          "metadata": {},
          "execution_count": 7
        }
      ],
      "source": [
        "from sklearn.ensemble import RandomForestRegressor\n",
        "regressor1 = RandomForestRegressor(n_estimators = 10, random_state = 0)\n",
        "regressor1.fit(X_train1, y_train1)"
      ]
    },
    {
      "cell_type": "code",
      "execution_count": 8,
      "id": "b661ed1e",
      "metadata": {
        "colab": {
          "base_uri": "https://localhost:8080/"
        },
        "id": "b661ed1e",
        "outputId": "887db069-11f8-42f1-9dcc-b9b69c8fe98b"
      },
      "outputs": [
        {
          "output_type": "execute_result",
          "data": {
            "text/plain": [
              "RandomForestRegressor(n_estimators=10, random_state=0)"
            ]
          },
          "metadata": {},
          "execution_count": 8
        }
      ],
      "source": [
        "regressor2 = RandomForestRegressor(n_estimators = 10, random_state = 0)\n",
        "regressor2.fit(X_train2, y_train2)"
      ]
    },
    {
      "cell_type": "code",
      "execution_count": 9,
      "id": "656634c1",
      "metadata": {
        "colab": {
          "base_uri": "https://localhost:8080/"
        },
        "id": "656634c1",
        "outputId": "998102e5-8695-4079-a247-7e3f67bd0ad6"
      },
      "outputs": [
        {
          "output_type": "execute_result",
          "data": {
            "text/plain": [
              "RandomForestRegressor(n_estimators=10, random_state=0)"
            ]
          },
          "metadata": {},
          "execution_count": 9
        }
      ],
      "source": [
        "regressor3 = RandomForestRegressor(n_estimators = 10, random_state = 0)\n",
        "regressor3.fit(X_train3, y_train3)"
      ]
    },
    {
      "cell_type": "markdown",
      "source": [
        "**Predicting the Test set results**"
      ],
      "metadata": {
        "id": "W6_LA7EdqmrB"
      },
      "id": "W6_LA7EdqmrB"
    },
    {
      "cell_type": "code",
      "execution_count": 10,
      "id": "fed9f9ba",
      "metadata": {
        "colab": {
          "base_uri": "https://localhost:8080/"
        },
        "id": "fed9f9ba",
        "outputId": "04cf0e33-989c-4762-ecab-9fe25090bdbb"
      },
      "outputs": [
        {
          "output_type": "stream",
          "name": "stdout",
          "text": [
            "[[29676.72 27782.78]\n",
            " [30332.85 26386.35]\n",
            " [32621.21 27506.55]\n",
            " ...\n",
            " [32483.53 38639.21]\n",
            " [33117.25 36790.9 ]\n",
            " [30980.52 25267.12]]\n"
          ]
        }
      ],
      "source": [
        "y_pred1 = regressor1.predict(X_test1)\n",
        "np.set_printoptions(precision=2)\n",
        "print(np.concatenate((y_pred1.reshape(len(y_pred1),1), y_test1.reshape(len(y_test1),1)),1))"
      ]
    },
    {
      "cell_type": "code",
      "execution_count": 11,
      "id": "2466acb8",
      "metadata": {
        "colab": {
          "base_uri": "https://localhost:8080/"
        },
        "id": "2466acb8",
        "outputId": "1138b304-2841-4a92-9032-2dfe538197d4"
      },
      "outputs": [
        {
          "output_type": "stream",
          "name": "stdout",
          "text": [
            "[[16898.3  17191.68]\n",
            " [17895.18 17887.97]\n",
            " [19119.08 15537.63]\n",
            " ...\n",
            " [20348.95 23650.77]\n",
            " [23288.12 22753.94]\n",
            " [20394.37 15497.87]]\n"
          ]
        }
      ],
      "source": [
        "y_pred2 = regressor2.predict(X_test2)\n",
        "np.set_printoptions(precision=2)\n",
        "print(np.concatenate((y_pred2.reshape(len(y_pred2),1), y_test2.reshape(len(y_test2),1)),1))"
      ]
    },
    {
      "cell_type": "code",
      "execution_count": 12,
      "id": "aa3dcfcc",
      "metadata": {
        "colab": {
          "base_uri": "https://localhost:8080/"
        },
        "id": "aa3dcfcc",
        "outputId": "c31577b8-ee14-4d14-9b5e-e25dd87d175c"
      },
      "outputs": [
        {
          "output_type": "stream",
          "name": "stdout",
          "text": [
            "[[18550.02 21184.98]\n",
            " [15750.5  13375.81]\n",
            " [17920.4  13967.56]\n",
            " ...\n",
            " [15139.59 20276.6 ]\n",
            " [16885.68 13049.  ]\n",
            " [17998.59 15450.69]]\n"
          ]
        }
      ],
      "source": [
        "y_pred3 = regressor3.predict(X_test3)\n",
        "np.set_printoptions(precision=2) \n",
        "print(np.concatenate((y_pred3.reshape(len(y_pred3),1), y_test3.reshape(len(y_test3),1)),1))"
      ]
    },
    {
      "cell_type": "markdown",
      "metadata": {
        "id": "2c268a0a"
      },
      "source": [
        "**Evaluating the Model Performance**"
      ],
      "id": "2c268a0a"
    },
    {
      "cell_type": "code",
      "execution_count": 13,
      "id": "c6112af7",
      "metadata": {
        "colab": {
          "base_uri": "https://localhost:8080/"
        },
        "id": "c6112af7",
        "outputId": "8e25e99e-46c0-47a3-85ab-90b7d1c2271d"
      },
      "outputs": [
        {
          "output_type": "execute_result",
          "data": {
            "text/plain": [
              "0.5310165270393037"
            ]
          },
          "metadata": {},
          "execution_count": 13
        }
      ],
      "source": [
        "from sklearn.metrics import r2_score\n",
        "r2_score(y_test1, y_pred1)"
      ]
    },
    {
      "cell_type": "code",
      "execution_count": 14,
      "id": "f938e3a3",
      "metadata": {
        "colab": {
          "base_uri": "https://localhost:8080/"
        },
        "id": "f938e3a3",
        "outputId": "7bfe971d-7b8c-4eee-b0e0-f319a5fc0556"
      },
      "outputs": [
        {
          "output_type": "execute_result",
          "data": {
            "text/plain": [
              "0.5119369305109509"
            ]
          },
          "metadata": {},
          "execution_count": 14
        }
      ],
      "source": [
        "r2_score(y_test2, y_pred2)"
      ]
    },
    {
      "cell_type": "code",
      "execution_count": 15,
      "id": "845caf32",
      "metadata": {
        "colab": {
          "base_uri": "https://localhost:8080/"
        },
        "id": "845caf32",
        "outputId": "cd47577e-ddde-48e1-fad9-64763e26a359"
      },
      "outputs": [
        {
          "output_type": "execute_result",
          "data": {
            "text/plain": [
              "0.6856781650527263"
            ]
          },
          "metadata": {},
          "execution_count": 15
        }
      ],
      "source": [
        "r2_score(y_test3, y_pred3)"
      ]
    },
    {
      "cell_type": "markdown",
      "id": "7da4dd6a",
      "metadata": {
        "id": "7da4dd6a"
      },
      "source": [
        ""
      ]
    }
  ],
  "metadata": {
    "kernelspec": {
      "display_name": "Python 3 (ipykernel)",
      "language": "python",
      "name": "python3"
    },
    "language_info": {
      "codemirror_mode": {
        "name": "ipython",
        "version": 3
      },
      "file_extension": ".py",
      "mimetype": "text/x-python",
      "name": "python",
      "nbconvert_exporter": "python",
      "pygments_lexer": "ipython3",
      "version": "3.9.6"
    },
    "colab": {
      "name": "Random Forest Regression.ipynb",
      "provenance": [],
      "include_colab_link": true
    }
  },
  "nbformat": 4,
  "nbformat_minor": 5
}