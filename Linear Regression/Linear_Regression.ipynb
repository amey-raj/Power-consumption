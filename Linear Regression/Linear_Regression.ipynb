{
  "cells": [
    {
      "cell_type": "markdown",
      "metadata": {
        "id": "view-in-github",
        "colab_type": "text"
      },
      "source": [
        "<a href=\"https://colab.research.google.com/github/amey-raj/Power-consumption/blob/main/Linear%20Regression/Linear_Regression.ipynb\" target=\"_parent\"><img src=\"https://colab.research.google.com/assets/colab-badge.svg\" alt=\"Open In Colab\"/></a>"
      ]
    },
    {
      "cell_type": "markdown",
      "metadata": {
        "id": "a70ec730"
      },
      "source": [
        "**Importing the libraries**"
      ],
      "id": "a70ec730"
    },
    {
      "cell_type": "code",
      "execution_count": 11,
      "id": "93e3dfc7",
      "metadata": {
        "id": "93e3dfc7"
      },
      "outputs": [],
      "source": [
        "import numpy as np \n",
        "import matplotlib.pyplot as plt \n",
        "import pandas as pd"
      ]
    },
    {
      "cell_type": "code",
      "execution_count": 12,
      "id": "07dd1ad9",
      "metadata": {
        "id": "07dd1ad9"
      },
      "outputs": [],
      "source": [
        "dataset = pd.read_csv(r'Tetouan City power consumption.csv')\n",
        "X = dataset.iloc[:, 1:6].values\n",
        "y1 = dataset.iloc[:, 6].values\n",
        "y2 = dataset.iloc[:, 7].values\n",
        "y3 = dataset.iloc[:, 8].values"
      ]
    },
    {
      "cell_type": "code",
      "execution_count": 13,
      "id": "acf83f26",
      "metadata": {
        "colab": {
          "base_uri": "https://localhost:8080/"
        },
        "id": "acf83f26",
        "outputId": "dad50fb8-3176-466f-82d5-31fd0e9ed991"
      },
      "outputs": [
        {
          "output_type": "stream",
          "name": "stdout",
          "text": [
            "[20240.96386 20131.08434 19668.43373 ... 13806.48259 13512.60504\n",
            " 13345.4982 ]\n"
          ]
        }
      ],
      "source": [
        "print(y3)"
      ]
    },
    {
      "cell_type": "markdown",
      "metadata": {
        "id": "afeeedbb"
      },
      "source": [
        "**Splitting the dataset into the Training set and Test set**"
      ],
      "id": "afeeedbb"
    },
    {
      "cell_type": "code",
      "execution_count": 14,
      "id": "e72a6572",
      "metadata": {
        "id": "e72a6572"
      },
      "outputs": [],
      "source": [
        "from sklearn.model_selection import train_test_split\n",
        "X_train1, X_test1, y_train1, y_test1 = train_test_split(X, y1, test_size = 0.2, random_state = 0)\n",
        "X_train2, X_test2, y_train2, y_test2 = train_test_split(X, y2, test_size = 0.2, random_state = 0)\n",
        "X_train3, X_test3, y_train3, y_test3 = train_test_split(X, y3, test_size = 0.2, random_state = 0)"
      ]
    },
    {
      "cell_type": "markdown",
      "metadata": {
        "id": "90b70459"
      },
      "source": [
        "**Training Model**"
      ],
      "id": "90b70459"
    },
    {
      "cell_type": "code",
      "execution_count": 15,
      "id": "b2b6f54c",
      "metadata": {
        "colab": {
          "base_uri": "https://localhost:8080/"
        },
        "id": "b2b6f54c",
        "outputId": "5e4f2ae8-1c30-42d6-95e4-0c65f549625c"
      },
      "outputs": [
        {
          "output_type": "execute_result",
          "data": {
            "text/plain": [
              "LinearRegression()"
            ]
          },
          "metadata": {},
          "execution_count": 15
        }
      ],
      "source": [
        "from sklearn.linear_model import LinearRegression\n",
        "regressor1 = LinearRegression()\n",
        "regressor1.fit(X_train1, y_train1)"
      ]
    },
    {
      "cell_type": "code",
      "execution_count": 16,
      "id": "f8901151",
      "metadata": {
        "colab": {
          "base_uri": "https://localhost:8080/"
        },
        "id": "f8901151",
        "outputId": "ad447f93-f1ed-438a-93ac-4a0bbe4b83ba"
      },
      "outputs": [
        {
          "output_type": "execute_result",
          "data": {
            "text/plain": [
              "LinearRegression()"
            ]
          },
          "metadata": {},
          "execution_count": 16
        }
      ],
      "source": [
        "regressor2 = LinearRegression()\n",
        "regressor2.fit(X_train2, y_train2)"
      ]
    },
    {
      "cell_type": "code",
      "execution_count": 17,
      "id": "4e155df4",
      "metadata": {
        "colab": {
          "base_uri": "https://localhost:8080/"
        },
        "id": "4e155df4",
        "outputId": "417bee77-34fb-48d6-db62-4882944d8cc6"
      },
      "outputs": [
        {
          "output_type": "execute_result",
          "data": {
            "text/plain": [
              "LinearRegression()"
            ]
          },
          "metadata": {},
          "execution_count": 17
        }
      ],
      "source": [
        "regressor3 = LinearRegression()\n",
        "regressor3.fit(X_train3, y_train3)"
      ]
    },
    {
      "cell_type": "markdown",
      "source": [
        "**Predicting the Test set results**"
      ],
      "metadata": {
        "id": "W6_LA7EdqmrB"
      },
      "id": "W6_LA7EdqmrB"
    },
    {
      "cell_type": "code",
      "execution_count": 18,
      "id": "cf046b15",
      "metadata": {
        "colab": {
          "base_uri": "https://localhost:8080/"
        },
        "id": "cf046b15",
        "outputId": "1a4bb7ea-f559-4b6e-a6d9-1c4af9c0485a"
      },
      "outputs": [
        {
          "output_type": "stream",
          "name": "stdout",
          "text": [
            "[[31881.1  27782.78]\n",
            " [33114.89 26386.35]\n",
            " [36506.36 27506.55]\n",
            " ...\n",
            " [32854.8  38639.21]\n",
            " [36093.38 36790.9 ]\n",
            " [30705.1  25267.12]]\n"
          ]
        }
      ],
      "source": [
        "y_pred1 = regressor1.predict(X_test1)\n",
        "np.set_printoptions(precision=2)\n",
        "print(np.concatenate((y_pred1.reshape(len(y_pred1),1), y_test1.reshape(len(y_test1),1)),1))"
      ]
    },
    {
      "cell_type": "code",
      "execution_count": 19,
      "id": "cff09f72",
      "metadata": {
        "colab": {
          "base_uri": "https://localhost:8080/"
        },
        "id": "cff09f72",
        "outputId": "aa43dee9-9697-400c-dcf2-a4c38e7b22cf"
      },
      "outputs": [
        {
          "output_type": "stream",
          "name": "stdout",
          "text": [
            "[[20391.16 17191.68]\n",
            " [21638.54 17887.97]\n",
            " [23917.57 15537.63]\n",
            " ...\n",
            " [20902.47 23650.77]\n",
            " [23640.76 22753.94]\n",
            " [20351.72 15497.87]]\n"
          ]
        }
      ],
      "source": [
        "y_pred2 = regressor2.predict(X_test2)\n",
        "np.set_printoptions(precision=2)\n",
        "print(np.concatenate((y_pred2.reshape(len(y_pred2),1), y_test2.reshape(len(y_test2),1)),1))"
      ]
    },
    {
      "cell_type": "code",
      "execution_count": 20,
      "id": "ad4414d2",
      "metadata": {
        "colab": {
          "base_uri": "https://localhost:8080/"
        },
        "id": "ad4414d2",
        "outputId": "c3d1ac44-321f-4a42-c71a-0b14c829638e"
      },
      "outputs": [
        {
          "output_type": "stream",
          "name": "stdout",
          "text": [
            "[[19468.28 21184.98]\n",
            " [20330.76 13375.81]\n",
            " [21022.54 13967.56]\n",
            " ...\n",
            " [18205.06 20276.6 ]\n",
            " [21111.09 13049.  ]\n",
            " [16058.58 15450.69]]\n"
          ]
        }
      ],
      "source": [
        "y_pred3 = regressor3.predict(X_test3)\n",
        "np.set_printoptions(precision=2) \n",
        "print(np.concatenate((y_pred3.reshape(len(y_pred3),1), y_test3.reshape(len(y_test3),1)),1))"
      ]
    },
    {
      "cell_type": "markdown",
      "metadata": {
        "id": "2c268a0a"
      },
      "source": [
        "**Evaluating the Model Performance**"
      ],
      "id": "2c268a0a"
    },
    {
      "cell_type": "code",
      "execution_count": 21,
      "id": "7a8aad50",
      "metadata": {
        "colab": {
          "base_uri": "https://localhost:8080/"
        },
        "id": "7a8aad50",
        "outputId": "261f88ed-1ccf-4d5c-8775-90d600956444"
      },
      "outputs": [
        {
          "output_type": "execute_result",
          "data": {
            "text/plain": [
              "0.21203137397209093"
            ]
          },
          "metadata": {},
          "execution_count": 21
        }
      ],
      "source": [
        "from sklearn.metrics import r2_score\n",
        "r2_score(y_test1, y_pred1)"
      ]
    },
    {
      "cell_type": "code",
      "execution_count": 22,
      "id": "c45c3aef",
      "metadata": {
        "colab": {
          "base_uri": "https://localhost:8080/"
        },
        "id": "c45c3aef",
        "outputId": "bcb952ab-1008-41f8-9ef4-98fa57b366cf"
      },
      "outputs": [
        {
          "output_type": "execute_result",
          "data": {
            "text/plain": [
              "0.1744958337299286"
            ]
          },
          "metadata": {},
          "execution_count": 22
        }
      ],
      "source": [
        "r2_score(y_test2, y_pred2)"
      ]
    },
    {
      "cell_type": "code",
      "execution_count": 23,
      "id": "854cec3d",
      "metadata": {
        "colab": {
          "base_uri": "https://localhost:8080/"
        },
        "id": "854cec3d",
        "outputId": "c88c48ad-66b3-4bd1-aa13-59fe82c6de9a"
      },
      "outputs": [
        {
          "output_type": "execute_result",
          "data": {
            "text/plain": [
              "0.28433541477558044"
            ]
          },
          "metadata": {},
          "execution_count": 23
        }
      ],
      "source": [
        "r2_score(y_test3, y_pred3)"
      ]
    },
    {
      "cell_type": "code",
      "execution_count": 23,
      "id": "dad5c3ed",
      "metadata": {
        "id": "dad5c3ed"
      },
      "outputs": [],
      "source": [
        ""
      ]
    }
  ],
  "metadata": {
    "kernelspec": {
      "display_name": "Python 3 (ipykernel)",
      "language": "python",
      "name": "python3"
    },
    "language_info": {
      "codemirror_mode": {
        "name": "ipython",
        "version": 3
      },
      "file_extension": ".py",
      "mimetype": "text/x-python",
      "name": "python",
      "nbconvert_exporter": "python",
      "pygments_lexer": "ipython3",
      "version": "3.9.6"
    },
    "colab": {
      "name": "Linear Regression.ipynb",
      "provenance": [],
      "include_colab_link": true
    }
  },
  "nbformat": 4,
  "nbformat_minor": 5
}