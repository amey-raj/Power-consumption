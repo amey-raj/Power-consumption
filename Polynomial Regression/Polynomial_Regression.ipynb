{
  "cells": [
    {
      "cell_type": "markdown",
      "metadata": {
        "id": "view-in-github",
        "colab_type": "text"
      },
      "source": [
        "<a href=\"https://colab.research.google.com/github/amey-raj/Power-consumption/blob/main/Polynomial%20Regression/Polynomial_Regression.ipynb\" target=\"_parent\"><img src=\"https://colab.research.google.com/assets/colab-badge.svg\" alt=\"Open In Colab\"/></a>"
      ]
    },
    {
      "cell_type": "markdown",
      "metadata": {
        "id": "a70ec730"
      },
      "source": [
        "**Importing the libraries**"
      ],
      "id": "a70ec730"
    },
    {
      "cell_type": "code",
      "execution_count": 3,
      "id": "c67ad82a",
      "metadata": {
        "id": "c67ad82a"
      },
      "outputs": [],
      "source": [
        "import numpy as np \n",
        "import matplotlib.pyplot as plt \n",
        "import pandas as pd"
      ]
    },
    {
      "cell_type": "code",
      "execution_count": 4,
      "id": "bfd06740",
      "metadata": {
        "id": "bfd06740"
      },
      "outputs": [],
      "source": [
        "dataset = pd.read_csv('Tetouan City power consumption.csv')\n",
        "X = dataset.iloc[:, 1:6].values\n",
        "y1 = dataset.iloc[:, 6].values\n",
        "y2 = dataset.iloc[:, 7].values\n",
        "y3 = dataset.iloc[:, 8].values"
      ]
    },
    {
      "cell_type": "code",
      "execution_count": 5,
      "id": "8a8b4822",
      "metadata": {
        "colab": {
          "base_uri": "https://localhost:8080/"
        },
        "id": "8a8b4822",
        "outputId": "0f9275a4-9504-46e7-9078-e8c4b5c8a51f"
      },
      "outputs": [
        {
          "output_type": "stream",
          "name": "stdout",
          "text": [
            "[20240.96386 20131.08434 19668.43373 ... 13806.48259 13512.60504\n",
            " 13345.4982 ]\n"
          ]
        }
      ],
      "source": [
        "print(y3)"
      ]
    },
    {
      "cell_type": "markdown",
      "metadata": {
        "id": "afeeedbb"
      },
      "source": [
        "**Splitting the dataset into the Training set and Test set**"
      ],
      "id": "afeeedbb"
    },
    {
      "cell_type": "code",
      "execution_count": 6,
      "id": "ebe9c676",
      "metadata": {
        "id": "ebe9c676"
      },
      "outputs": [],
      "source": [
        "from sklearn.model_selection import train_test_split\n",
        "X_train1, X_test1, y_train1, y_test1 = train_test_split(X, y1, test_size = 0.2, random_state = 0)\n",
        "X_train2, X_test2, y_train2, y_test2 = train_test_split(X, y2, test_size = 0.2, random_state = 0)\n",
        "X_train3, X_test3, y_train3, y_test3 = train_test_split(X, y3, test_size = 0.2, random_state = 0)"
      ]
    },
    {
      "cell_type": "markdown",
      "metadata": {
        "id": "90b70459"
      },
      "source": [
        "**Training Model**"
      ],
      "id": "90b70459"
    },
    {
      "cell_type": "code",
      "execution_count": 7,
      "id": "d9d66f51",
      "metadata": {
        "colab": {
          "base_uri": "https://localhost:8080/"
        },
        "id": "d9d66f51",
        "outputId": "ca8f9cd6-07cc-492a-a2f0-8a8f2eef3e53"
      },
      "outputs": [
        {
          "output_type": "execute_result",
          "data": {
            "text/plain": [
              "LinearRegression()"
            ]
          },
          "metadata": {},
          "execution_count": 7
        }
      ],
      "source": [
        "from sklearn.preprocessing import PolynomialFeatures\n",
        "from sklearn.linear_model import LinearRegression\n",
        "poly_reg1 = PolynomialFeatures(degree = 4)\n",
        "X_poly1 = poly_reg1.fit_transform(X_train1)\n",
        "regressor1 = LinearRegression()\n",
        "regressor1.fit(X_poly1, y_train1)"
      ]
    },
    {
      "cell_type": "code",
      "execution_count": 8,
      "id": "db3eb011",
      "metadata": {
        "colab": {
          "base_uri": "https://localhost:8080/"
        },
        "id": "db3eb011",
        "outputId": "b88e9d05-6a96-4c77-f611-6be15bacbcbe"
      },
      "outputs": [
        {
          "output_type": "execute_result",
          "data": {
            "text/plain": [
              "LinearRegression()"
            ]
          },
          "metadata": {},
          "execution_count": 8
        }
      ],
      "source": [
        "poly_reg2 = PolynomialFeatures(degree = 4)\n",
        "X_poly2 = poly_reg2.fit_transform(X_train2)\n",
        "regressor2 = LinearRegression()\n",
        "regressor2.fit(X_poly2, y_train2)"
      ]
    },
    {
      "cell_type": "code",
      "execution_count": 9,
      "id": "00ce1ce2",
      "metadata": {
        "colab": {
          "base_uri": "https://localhost:8080/"
        },
        "id": "00ce1ce2",
        "outputId": "d54064f7-4889-40dd-c4cc-8e1383fc88b6"
      },
      "outputs": [
        {
          "output_type": "execute_result",
          "data": {
            "text/plain": [
              "LinearRegression()"
            ]
          },
          "metadata": {},
          "execution_count": 9
        }
      ],
      "source": [
        "poly_reg3 = PolynomialFeatures(degree = 4)\n",
        "X_poly3 = poly_reg3.fit_transform(X_train3)\n",
        "regressor3 = LinearRegression()\n",
        "regressor3.fit(X_poly3, y_train3)"
      ]
    },
    {
      "cell_type": "markdown",
      "source": [
        "**Predicting the Test set results**"
      ],
      "metadata": {
        "id": "W6_LA7EdqmrB"
      },
      "id": "W6_LA7EdqmrB"
    },
    {
      "cell_type": "code",
      "execution_count": 10,
      "id": "50b489f1",
      "metadata": {
        "colab": {
          "base_uri": "https://localhost:8080/"
        },
        "id": "50b489f1",
        "outputId": "f20002cf-ffa5-4a63-9ce9-2c1e04757b8c"
      },
      "outputs": [
        {
          "output_type": "stream",
          "name": "stdout",
          "text": [
            "[[28099.1  27782.78]\n",
            " [33807.33 26386.35]\n",
            " [36152.1  27506.55]\n",
            " ...\n",
            " [30846.95 38639.21]\n",
            " [33987.17 36790.9 ]\n",
            " [31291.11 25267.12]]\n"
          ]
        }
      ],
      "source": [
        "y_pred1 = regressor1.predict(poly_reg1.transform(X_test1))\n",
        "np.set_printoptions(precision=2)\n",
        "print(np.concatenate((y_pred1.reshape(len(y_pred1),1), y_test1.reshape(len(y_test1),1)),1))"
      ]
    },
    {
      "cell_type": "code",
      "execution_count": 11,
      "id": "460ed7f0",
      "metadata": {
        "colab": {
          "base_uri": "https://localhost:8080/"
        },
        "id": "460ed7f0",
        "outputId": "4dbc9e31-db5c-4b54-e6d4-4cb2fb4d29b3"
      },
      "outputs": [
        {
          "output_type": "stream",
          "name": "stdout",
          "text": [
            "[[17074.   17191.68]\n",
            " [21261.35 17887.97]\n",
            " [23012.97 15537.63]\n",
            " ...\n",
            " [19860.65 23650.77]\n",
            " [22044.07 22753.94]\n",
            " [21320.67 15497.87]]\n"
          ]
        }
      ],
      "source": [
        "y_pred2 = regressor2.predict(poly_reg2.transform(X_test2))\n",
        "np.set_printoptions(precision=2)\n",
        "print(np.concatenate((y_pred2.reshape(len(y_pred2),1), y_test2.reshape(len(y_test2),1)),1))"
      ]
    },
    {
      "cell_type": "code",
      "execution_count": 12,
      "id": "2a4d0138",
      "metadata": {
        "colab": {
          "base_uri": "https://localhost:8080/"
        },
        "id": "2a4d0138",
        "outputId": "75fb1be1-f302-4538-cc19-3bd4a934ab23"
      },
      "outputs": [
        {
          "output_type": "stream",
          "name": "stdout",
          "text": [
            "[[14348.43 21184.98]\n",
            " [19196.94 13375.81]\n",
            " [20748.09 13967.56]\n",
            " ...\n",
            " [16714.13 20276.6 ]\n",
            " [15998.66 13049.  ]\n",
            " [16934.06 15450.69]]\n"
          ]
        }
      ],
      "source": [
        "y_pred3 = regressor3.predict(poly_reg3.transform(X_test3))\n",
        "np.set_printoptions(precision=2) \n",
        "print(np.concatenate((y_pred3.reshape(len(y_pred3),1), y_test3.reshape(len(y_test3),1)),1))"
      ]
    },
    {
      "cell_type": "markdown",
      "metadata": {
        "id": "2c268a0a"
      },
      "source": [
        "**Evaluating the Model Performance**"
      ],
      "id": "2c268a0a"
    },
    {
      "cell_type": "code",
      "execution_count": 13,
      "id": "3d4aa8e1",
      "metadata": {
        "colab": {
          "base_uri": "https://localhost:8080/"
        },
        "id": "3d4aa8e1",
        "outputId": "46275e36-1ad3-442d-8d6d-7cd42bfe957d"
      },
      "outputs": [
        {
          "output_type": "execute_result",
          "data": {
            "text/plain": [
              "0.2931009241934657"
            ]
          },
          "metadata": {},
          "execution_count": 13
        }
      ],
      "source": [
        "from sklearn.metrics import r2_score\n",
        "r2_score(y_test1, y_pred1)"
      ]
    },
    {
      "cell_type": "code",
      "execution_count": 14,
      "id": "a63f5a0c",
      "metadata": {
        "colab": {
          "base_uri": "https://localhost:8080/"
        },
        "id": "a63f5a0c",
        "outputId": "d65d3fdf-aa27-4388-d118-e24f9d187f6a"
      },
      "outputs": [
        {
          "output_type": "execute_result",
          "data": {
            "text/plain": [
              "0.2775232818780108"
            ]
          },
          "metadata": {},
          "execution_count": 14
        }
      ],
      "source": [
        "r2_score(y_test2, y_pred2)"
      ]
    },
    {
      "cell_type": "code",
      "execution_count": 15,
      "id": "2afd4fc4",
      "metadata": {
        "colab": {
          "base_uri": "https://localhost:8080/"
        },
        "id": "2afd4fc4",
        "outputId": "14701eea-cef0-4cdc-c983-8fab854a5c0e"
      },
      "outputs": [
        {
          "output_type": "execute_result",
          "data": {
            "text/plain": [
              "0.5015692106804766"
            ]
          },
          "metadata": {},
          "execution_count": 15
        }
      ],
      "source": [
        "r2_score(y_test3, y_pred3)"
      ]
    },
    {
      "cell_type": "code",
      "execution_count": 15,
      "id": "ecf57780",
      "metadata": {
        "id": "ecf57780"
      },
      "outputs": [],
      "source": [
        ""
      ]
    }
  ],
  "metadata": {
    "kernelspec": {
      "display_name": "Python 3 (ipykernel)",
      "language": "python",
      "name": "python3"
    },
    "language_info": {
      "codemirror_mode": {
        "name": "ipython",
        "version": 3
      },
      "file_extension": ".py",
      "mimetype": "text/x-python",
      "name": "python",
      "nbconvert_exporter": "python",
      "pygments_lexer": "ipython3",
      "version": "3.9.6"
    },
    "colab": {
      "name": "Polynomial Regression.ipynb",
      "provenance": [],
      "include_colab_link": true
    }
  },
  "nbformat": 4,
  "nbformat_minor": 5
}